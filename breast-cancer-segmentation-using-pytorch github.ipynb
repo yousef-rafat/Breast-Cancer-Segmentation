{
 "cells": [
  {
   "cell_type": "code",
   "execution_count": 1,
   "id": "af081327",
   "metadata": {
    "execution": {
     "iopub.execute_input": "2024-03-10T07:50:05.345109Z",
     "iopub.status.busy": "2024-03-10T07:50:05.343865Z",
     "iopub.status.idle": "2024-03-10T07:50:05.954213Z",
     "shell.execute_reply": "2024-03-10T07:50:05.953129Z"
    },
    "papermill": {
     "duration": 0.619828,
     "end_time": "2024-03-10T07:50:05.956455",
     "exception": false,
     "start_time": "2024-03-10T07:50:05.336627",
     "status": "completed"
    },
    "tags": []
   },
   "outputs": [
    {
     "data": {
      "text/plain": [
       "'/kaggle/input/breast-ultrasound-images-dataset/Dataset_BUSI_with_GT/normal/normal (51)_mask.png'"
      ]
     },
     "execution_count": 1,
     "metadata": {},
     "output_type": "execute_result"
    }
   ],
   "source": [
    "from glob import glob\n",
    "import os\n",
    "\n",
    "malignant_dataset_dir = '/kaggle/input/breast-ultrasound-images-dataset/Dataset_BUSI_with_GT/malignant'\n",
    "benign_dataset_dir = '/kaggle/input/breast-ultrasound-images-dataset/Dataset_BUSI_with_GT/benign'\n",
    "normal_dataset_dir = '/kaggle/input/breast-ultrasound-images-dataset/Dataset_BUSI_with_GT/normal'\n",
    "\n",
    "class_names = ['benign', 'malignant', 'normal']\n",
    "# Getting the Image and Mask files from dataset\n",
    "benign_image_url = glob(os.path.join(benign_dataset_dir, '*).png'))\n",
    "benign_mask_url = glob(os.path.join(benign_dataset_dir, '*_mask*'))\n",
    "    \n",
    "malignant_image_url = glob(os.path.join(malignant_dataset_dir, '*).png'))\n",
    "malignant_mask_url = glob(os.path.join(malignant_dataset_dir, '*_mask*'))\n",
    "\n",
    "normal_image_url = glob(os.path.join(normal_dataset_dir, '*).png'))\n",
    "normal_mask_url = glob(os.path.join(normal_dataset_dir, '*_mask*'))\n",
    "\n",
    "normal_dataset_dir + '/' + normal_dataset_dir.split('/')[-1] + ' ' + normal_image_url[1].split('/')[-1].split(' ')[-1].split('.')[0] + '_mask.png'"
   ]
  },
  {
   "cell_type": "code",
   "execution_count": 2,
   "id": "2e0cce34",
   "metadata": {
    "_cell_guid": "b1076dfc-b9ad-4769-8c92-a6c4dae69d19",
    "_uuid": "8f2839f25d086af736a60e9eeb907d3b93b6e0e5",
    "execution": {
     "iopub.execute_input": "2024-03-10T07:50:05.968405Z",
     "iopub.status.busy": "2024-03-10T07:50:05.967596Z",
     "iopub.status.idle": "2024-03-10T07:50:09.796339Z",
     "shell.execute_reply": "2024-03-10T07:50:09.794846Z"
    },
    "papermill": {
     "duration": 3.83835,
     "end_time": "2024-03-10T07:50:09.800079",
     "exception": false,
     "start_time": "2024-03-10T07:50:05.961729",
     "status": "completed"
    },
    "tags": []
   },
   "outputs": [],
   "source": [
    "from torch.utils.data import Dataset\n",
    "import cv2\n",
    "\n",
    "class ImageDataset(Dataset):\n",
    "    \n",
    "    def __init__(self, dataset_dir, image_urls, mask_urls, transforms):\n",
    "        \n",
    "        self.image_urls = image_urls\n",
    "        self.mask_urls = mask_urls\n",
    "        self.transform = transforms\n",
    "        self.dataset_dir = dataset_dir\n",
    "        \n",
    "    def __getitem__(self, index):\n",
    "        \n",
    "        image = self.image_urls[index]\n",
    "        mask_name = self.dataset_dir + '/' + self.dataset_dir.split('/')[-1] + ' ' + image.split('/')[-1].split(' ')[-1].split('.')[0] + '_mask.png'\n",
    "        \n",
    "        if not os.path.exists(os.path.join(self.dataset_dir, mask_name)):\n",
    "            mask_name = self.dataset_dir + '/' + self.dataset_dir.split('/')[-1] + ' ' + image.split('/')[-1].split(' ')[-1].split('.')[0] + '_mask_1.png'\n",
    "            \n",
    "        mask_index = self.mask_urls.index(mask_name)\n",
    "        mask = self.mask_urls[mask_index]\n",
    "        \n",
    "        image = cv2.imread(image)\n",
    "        image = cv2.cvtColor(image, cv2.COLOR_BGR2RGB)\n",
    "        mask = cv2.imread(mask, 0)\n",
    "        mask = cv2.cvtColor(mask, cv2.COLOR_BGR2RGB)\n",
    "        \n",
    "        label_name = self.dataset_dir.split('/')[-1]\n",
    "        label = class_names.index(label_name)\n",
    "        label = torch.tensor(label)\n",
    "        \n",
    "        if self.transform is not None:\n",
    "            image = self.transform(image)\n",
    "            mask = self.transform(mask)\n",
    "                        \n",
    "        return (image, label, mask)\n",
    "            \n",
    "    def __len__(self):\n",
    "        return len(self.image_urls)"
   ]
  },
  {
   "cell_type": "code",
   "execution_count": 3,
   "id": "91ad8928",
   "metadata": {
    "execution": {
     "iopub.execute_input": "2024-03-10T07:50:09.815771Z",
     "iopub.status.busy": "2024-03-10T07:50:09.815348Z",
     "iopub.status.idle": "2024-03-10T07:50:25.505218Z",
     "shell.execute_reply": "2024-03-10T07:50:25.504116Z"
    },
    "papermill": {
     "duration": 15.700342,
     "end_time": "2024-03-10T07:50:25.507670",
     "exception": false,
     "start_time": "2024-03-10T07:50:09.807328",
     "status": "completed"
    },
    "tags": []
   },
   "outputs": [],
   "source": [
    "from torch.utils.data import ConcatDataset\n",
    "import torchvision.transforms.v2 as v2\n",
    "import torchvision\n",
    "import torch\n",
    "\n",
    "mean, std = torch.zeros(3), torch.zeros(3)\n",
    "\n",
    "num_images = len(benign_image_url)\n",
    "\n",
    "for image in benign_image_url:\n",
    "    image = cv2.imread(image)\n",
    "    image = torch.tensor(image, dtype = torch.float32).permute(2, 0, 1).contiguous().view(3, -1) / 255\n",
    "    mean += image.mean(dim=1)\n",
    "\n",
    "mean /= num_images\n",
    "\n",
    "for image in benign_image_url:\n",
    "    image = cv2.imread(image)\n",
    "    image = torch.tensor(image, dtype = torch.float32).permute(2, 0, 1).contiguous().view(3, -1) / 255\n",
    "    std += ((image - mean.unsqueeze(1))**2).sum(dim=1)\n",
    "\n",
    "std = torch.sqrt(std / (num_images * image.size(1)))\n",
    "\n",
    "mean, std = mean.tolist(), std.tolist()\n",
    "\n",
    "# Mean Values = [0.33827683329582214, 0.33835434913635254, 0.3383665382862091]\n",
    "# Standard Deviation Values = [0.30563297867774963, 0.3056659400463104, 0.30566325783729553]\n",
    "\n",
    "effects = v2.Compose([\n",
    "    v2.ToImage(),\n",
    "    v2.Grayscale(),\n",
    "    v2.RandomHorizontalFlip(),\n",
    "    v2.RandomVerticalFlip(),\n",
    "    v2.RandomRotation(degrees=(0, 180)),\n",
    "    v2.Resize(size = (1024, 1024), antialias=True),\n",
    "    v2.ToDtype(torch.float32),\n",
    "    v2.Normalize(mean, std)\n",
    "])\n",
    "\n",
    "benign_dataset = ImageDataset(benign_dataset_dir, benign_image_url, benign_mask_url, effects)\n",
    "malignant_dataset = ImageDataset(malignant_dataset_dir, malignant_image_url, malignant_mask_url, effects)\n",
    "normal_dataset = ImageDataset(normal_dataset_dir, normal_image_url, normal_mask_url, effects)\n",
    "\n",
    "dataset = ConcatDataset([benign_dataset, malignant_dataset, normal_dataset])"
   ]
  },
  {
   "cell_type": "code",
   "execution_count": 4,
   "id": "c3d34cb3",
   "metadata": {
    "execution": {
     "iopub.execute_input": "2024-03-10T07:50:25.521270Z",
     "iopub.status.busy": "2024-03-10T07:50:25.520869Z",
     "iopub.status.idle": "2024-03-10T07:50:25.658659Z",
     "shell.execute_reply": "2024-03-10T07:50:25.657540Z"
    },
    "papermill": {
     "duration": 0.146916,
     "end_time": "2024-03-10T07:50:25.660983",
     "exception": false,
     "start_time": "2024-03-10T07:50:25.514067",
     "status": "completed"
    },
    "tags": []
   },
   "outputs": [
    {
     "data": {
      "text/plain": [
       "tensor([[-1.1068, -1.1068, -1.1068,  ..., -1.1068, -1.1068, -1.1068],\n",
       "        [-1.1068, -1.1068, -1.1068,  ..., -1.1068, -1.1068, -1.1068],\n",
       "        [-1.1068, -1.1068, -1.1068,  ..., -1.1068, -1.1068, -1.1068],\n",
       "        ...,\n",
       "        [-1.1068, -1.1068, -1.1068,  ..., -1.1068, -1.1068, -1.1068],\n",
       "        [-1.1068, -1.1068, -1.1068,  ..., -1.1068, -1.1068, -1.1068],\n",
       "        [-1.1068, -1.1068, -1.1068,  ..., -1.1068, -1.1068, -1.1068]])"
      ]
     },
     "execution_count": 4,
     "metadata": {},
     "output_type": "execute_result"
    }
   ],
   "source": [
    "dataset[0][0][0]"
   ]
  },
  {
   "cell_type": "code",
   "execution_count": 5,
   "id": "346ffdb3",
   "metadata": {
    "execution": {
     "iopub.execute_input": "2024-03-10T07:50:25.672842Z",
     "iopub.status.busy": "2024-03-10T07:50:25.672245Z",
     "iopub.status.idle": "2024-03-10T07:50:26.109315Z",
     "shell.execute_reply": "2024-03-10T07:50:26.108383Z"
    },
    "papermill": {
     "duration": 0.446135,
     "end_time": "2024-03-10T07:50:26.112495",
     "exception": false,
     "start_time": "2024-03-10T07:50:25.666360",
     "status": "completed"
    },
    "tags": []
   },
   "outputs": [
    {
     "data": {
      "image/png": "[encoded data removed]",
      "text/plain": [
       "<Figure size 400x400 with 1 Axes>"
      ]
     },
     "metadata": {},
     "output_type": "display_data"
    }
   ],
   "source": [
    "%matplotlib inline\n",
    "import matplotlib.pyplot as plt\n",
    "import numpy as np\n",
    "\n",
    "for image, label, mask in dataset:\n",
    "    \n",
    "    image = np.transpose(image, (1, 2, 0))\n",
    "    \n",
    "    mean = torch.tensor(mean)\n",
    "    std = torch.tensor(std)\n",
    "    \n",
    "    image = image * std + mean\n",
    "    image = image.numpy().astype(np.uint8)\n",
    "    \n",
    "    plt.figure(figsize = (4, 4))\n",
    "    plt.imshow(image)\n",
    "    plt.title(class_names[label].capitalize())\n",
    "    plt.axis('off')\n",
    "    \n",
    "    plt.show()\n",
    "    \n",
    "    break"
   ]
  },
  {
   "cell_type": "code",
   "execution_count": 6,
   "id": "e7edf26f",
   "metadata": {
    "execution": {
     "iopub.execute_input": "2024-03-10T07:50:26.128039Z",
     "iopub.status.busy": "2024-03-10T07:50:26.127739Z",
     "iopub.status.idle": "2024-03-10T07:50:26.136785Z",
     "shell.execute_reply": "2024-03-10T07:50:26.135708Z"
    },
    "papermill": {
     "duration": 0.019051,
     "end_time": "2024-03-10T07:50:26.138862",
     "exception": false,
     "start_time": "2024-03-10T07:50:26.119811",
     "status": "completed"
    },
    "tags": []
   },
   "outputs": [
    {
     "name": "stdout",
     "output_type": "stream",
     "text": [
      "Images in Train Dataset: 585\n",
      "Images in Validation Dataset: 97\n",
      "Images in Test Dataset: 98\n"
     ]
    }
   ],
   "source": [
    "from torch.utils.data import random_split\n",
    "from torch.utils.data import DataLoader\n",
    "\n",
    "train_size = int(len(dataset) * 0.75)\n",
    "valid_size = int(len(dataset) * 0.125)\n",
    "test_size = len(dataset) - train_size - valid_size\n",
    "\n",
    "train_dataset, valid_dataset, test_dataset = random_split(dataset, [train_size, valid_size, test_size])\n",
    "\n",
    "batch_size = 4\n",
    "\n",
    "train_dataset = DataLoader(train_dataset, batch_size = batch_size, shuffle = True)\n",
    "valid_dataset = DataLoader(valid_dataset, batch_size = batch_size, shuffle = True)\n",
    "test_dataset = DataLoader(test_dataset, batch_size = batch_size, shuffle = True)\n",
    "\n",
    "print(f'Images in Train Dataset: {len(train_dataset.dataset)}')\n",
    "print(f'Images in Validation Dataset: {len(valid_dataset.dataset)}')\n",
    "print(f'Images in Test Dataset: {len(test_dataset.dataset)}')"
   ]
  },
  {
   "cell_type": "code",
   "execution_count": 7,
   "id": "f0f4f8bd",
   "metadata": {
    "execution": {
     "iopub.execute_input": "2024-03-10T07:50:26.154013Z",
     "iopub.status.busy": "2024-03-10T07:50:26.153713Z",
     "iopub.status.idle": "2024-03-10T07:50:41.633684Z",
     "shell.execute_reply": "2024-03-10T07:50:41.632667Z"
    },
    "papermill": {
     "duration": 15.490262,
     "end_time": "2024-03-10T07:50:41.636316",
     "exception": false,
     "start_time": "2024-03-10T07:50:26.146054",
     "status": "completed"
    },
    "tags": []
   },
   "outputs": [
    {
     "name": "stderr",
     "output_type": "stream",
     "text": [
      "2024-03-10 07:50:28.324236: E external/local_xla/xla/stream_executor/cuda/cuda_dnn.cc:9261] Unable to register cuDNN factory: Attempting to register factory for plugin cuDNN when one has already been registered\n",
      "2024-03-10 07:50:28.324364: E external/local_xla/xla/stream_executor/cuda/cuda_fft.cc:607] Unable to register cuFFT factory: Attempting to register factory for plugin cuFFT when one has already been registered\n",
      "2024-03-10 07:50:28.462442: E external/local_xla/xla/stream_executor/cuda/cuda_blas.cc:1515] Unable to register cuBLAS factory: Attempting to register factory for plugin cuBLAS when one has already been registered\n"
     ]
    },
    {
     "data": {
      "application/vnd.jupyter.widget-view+json": {
       "model_id": "da5a8ebdc43145d394b42ed9ed1e6435",
       "version_major": 2,
       "version_minor": 0
      },
      "text/plain": [
       "preprocessor_config.json:   0%|          | 0.00/466 [00:00<?, ?B/s]"
      ]
     },
     "metadata": {},
     "output_type": "display_data"
    },
    {
     "data": {
      "application/vnd.jupyter.widget-view+json": {
       "model_id": "f9f422c783ae4bfaa208c687583b8446",
       "version_major": 2,
       "version_minor": 0
      },
      "text/plain": [
       "config.json:   0%|          | 0.00/473 [00:00<?, ?B/s]"
      ]
     },
     "metadata": {},
     "output_type": "display_data"
    },
    {
     "data": {
      "application/vnd.jupyter.widget-view+json": {
       "model_id": "71e3ba4467b14b848aee63469d50be8b",
       "version_major": 2,
       "version_minor": 0
      },
      "text/plain": [
       "pytorch_model.bin:   0%|          | 0.00/375M [00:00<?, ?B/s]"
      ]
     },
     "metadata": {},
     "output_type": "display_data"
    },
    {
     "name": "stderr",
     "output_type": "stream",
     "text": [
      "/opt/conda/lib/python3.10/site-packages/torch/_utils.py:831: UserWarning: TypedStorage is deprecated. It will be removed in the future and UntypedStorage will be the only storage class. This should only matter to you if you are using storages directly.  To access UntypedStorage directly, use tensor.untyped_storage() instead of tensor.storage()\n",
      "  return self.fget.__get__(instance, owner)()\n"
     ]
    }
   ],
   "source": [
    "from transformers import SamProcessor, SamModel\n",
    "import torch.nn as nn\n",
    "\n",
    "processor = SamProcessor.from_pretrained('wanglab/medsam-vit-base')\n",
    "model = SamModel.from_pretrained(\"ayoubkirouane/Breast-Cancer_SAM_v1\")\n",
    "\n",
    "total_layers = len(list(model.parameters()))\n",
    "layers_to_freeze = int(total_layers * 0.85)\n",
    "\n",
    "for i, parameter in enumerate(model.parameters()):\n",
    "    if i < layers_to_freeze:\n",
    "        parameter.requires_grad = False\n",
    "        \n",
    "for name, child in model.named_children():\n",
    "    if 'layer' in name:\n",
    "        for name2, child2 in child.named_children:\n",
    "            setattr(child, name2, nn.Sequential(child2, nn.Dropout(0.65), nn.BatchNorm2d()))"
   ]
  },
  {
   "cell_type": "code",
   "execution_count": 8,
   "id": "80b4e368",
   "metadata": {
    "execution": {
     "iopub.execute_input": "2024-03-10T07:50:41.653994Z",
     "iopub.status.busy": "2024-03-10T07:50:41.653384Z",
     "iopub.status.idle": "2024-03-10T07:50:42.005101Z",
     "shell.execute_reply": "2024-03-10T07:50:42.004013Z"
    },
    "papermill": {
     "duration": 0.363114,
     "end_time": "2024-03-10T07:50:42.007596",
     "exception": false,
     "start_time": "2024-03-10T07:50:41.644482",
     "status": "completed"
    },
    "tags": []
   },
   "outputs": [],
   "source": [
    "from accelerate import Accelerator\n",
    "\n",
    "epochs = 2\n",
    "lr = 0.001\n",
    "\n",
    "optimizer = torch.optim.AdamW(filter(lambda p: p.requires_grad, model.parameters()), lr = lr, weight_decay = 0.01)\n",
    "\n",
    "accelerator = Accelerator()\n",
    "\n",
    "model, optimizer, train_dataset, valid_dataset, test_dataset = accelerator.prepare(\n",
    "    model, optimizer, train_dataset, valid_dataset, test_dataset\n",
    ")\n",
    "\n",
    "loss_fn = torch.nn.BCEWithLogitsLoss()\n",
    "\n",
    "model.use_bfloat16 = True\n",
    "optimizer.loss_scaling_factor = 1.0 \n",
    "model.mixed_precision = True"
   ]
  },
  {
   "cell_type": "code",
   "execution_count": 9,
   "id": "6befba21",
   "metadata": {
    "execution": {
     "iopub.execute_input": "2024-03-10T07:50:42.025303Z",
     "iopub.status.busy": "2024-03-10T07:50:42.024394Z",
     "iopub.status.idle": "2024-03-10T08:02:37.399216Z",
     "shell.execute_reply": "2024-03-10T08:02:37.398137Z"
    },
    "papermill": {
     "duration": 715.385888,
     "end_time": "2024-03-10T08:02:37.401504",
     "exception": false,
     "start_time": "2024-03-10T07:50:42.015616",
     "status": "completed"
    },
    "tags": []
   },
   "outputs": [
    {
     "data": {
      "text/html": [
       "<div>\n",
       "<style scoped>\n",
       "    .dataframe tbody tr th:only-of-type {\n",
       "        vertical-align: middle;\n",
       "    }\n",
       "\n",
       "    .dataframe tbody tr th {\n",
       "        vertical-align: top;\n",
       "    }\n",
       "\n",
       "    .dataframe thead th {\n",
       "        text-align: right;\n",
       "    }\n",
       "</style>\n",
       "<table border=\"1\" class=\"dataframe\">\n",
       "  <thead>\n",
       "    <tr style=\"text-align: right;\">\n",
       "      <th></th>\n",
       "      <th>Epoch</th>\n",
       "      <th>Train Loss</th>\n",
       "      <th>Validation Loss</th>\n",
       "      <th>Train IOU</th>\n",
       "      <th>Validation IOU</th>\n",
       "    </tr>\n",
       "  </thead>\n",
       "  <tbody>\n",
       "    <tr>\n",
       "      <th>0</th>\n",
       "      <td>1</td>\n",
       "      <td>-4.571100e+09</td>\n",
       "      <td>-6.883457e+10</td>\n",
       "      <td>0.945788</td>\n",
       "      <td>0.902890</td>\n",
       "    </tr>\n",
       "    <tr>\n",
       "      <th>1</th>\n",
       "      <td>2</td>\n",
       "      <td>-3.839420e+11</td>\n",
       "      <td>-2.283970e+11</td>\n",
       "      <td>0.921815</td>\n",
       "      <td>0.902644</td>\n",
       "    </tr>\n",
       "  </tbody>\n",
       "</table>\n",
       "</div>"
      ],
      "text/plain": [
       "   Epoch    Train Loss  Validation Loss  Train IOU  Validation IOU\n",
       "0      1 -4.571100e+09    -6.883457e+10   0.945788        0.902890\n",
       "1      2 -3.839420e+11    -2.283970e+11   0.921815        0.902644"
      ]
     },
     "metadata": {},
     "output_type": "display_data"
    }
   ],
   "source": [
    "from IPython.display import clear_output, display\n",
    "import pandas as pd\n",
    "\n",
    "train_losses, val_losses, data, dataframe = [], [], [], []\n",
    "columns = [\"Epoch\", \"Train Loss\", 'Validation Loss', 'Train IOU', 'Validation IOU']\n",
    "\n",
    "for epoch in range(epochs):\n",
    "    \n",
    "    train_loss, train_total, avg_iou_train, total_ious, avg_train_loss, avg_iou_train = 0, 0, 0, 0, 0, 0\n",
    "    model.train()\n",
    "    \n",
    "    for i, (images, labels, masks) in enumerate(train_dataset):\n",
    "        \n",
    "        images = images.type(torch.bfloat16)\n",
    "        outputs = model(images.float())\n",
    "    \n",
    "        pred_masks = outputs['pred_masks'].to(torch.bfloat16)\n",
    "        masks = masks.type(torch.bfloat16)\n",
    "        \n",
    "        pred_masks = v2.Resize(size = (256, 256), antialias=True)(pred_masks)\n",
    "        masks = v2.Resize(size = (256, 256), antialias=True)(masks)\n",
    "        \n",
    "        try: mask_loss = loss_fn(pred_masks.view(batch_size, -1), masks.view(batch_size, -1))\n",
    "        except ValueError: pass\n",
    "        \n",
    "        if (outputs['iou_scores'] > 1).any():\n",
    "            iou_loss = outputs['iou_scores'] - 1\n",
    "        else:\n",
    "            iou_loss = 1 - outputs['iou_scores']\n",
    "    \n",
    "        loss = torch.sum(iou_loss + mask_loss).to(torch.bfloat16)\n",
    "        train_loss += loss.item()\n",
    "    \n",
    "        avg_train_loss = train_loss / (i + 1)\n",
    "        train_losses.append(loss.item())\n",
    "    \n",
    "        train_total += outputs['iou_scores'].reshape(-1).size(0)\n",
    "        total_ious += torch.sum(outputs['iou_scores']).item()\n",
    "        avg_iou_train = total_ious / (train_total + 1e-7)\n",
    "    \n",
    "        accelerator.backward(loss)\n",
    "        optimizer.step()\n",
    "        optimizer.zero_grad()\n",
    "    \n",
    "        clear_output(wait = True)\n",
    "        print(f'Epoch: {epoch + 1}, Train Loss: {avg_train_loss:.3f}, Train IOU: {avg_iou_train:.2f}')\n",
    "    \n",
    "    with torch.no_grad():\n",
    "        \n",
    "        val_loss, total, avg_iou, total_ious_val = 0,0,0,0\n",
    "        \n",
    "        for i, (images, labels, masks) in enumerate(valid_dataset):\n",
    "            \n",
    "            images = images.type(torch.bfloat16)\n",
    "            outputs = model(images.float())\n",
    "            \n",
    "            masks = v2.Resize(size = (256, 256), antialias=True)(masks)\n",
    "            pred_masks = v2.Resize(size = (256, 256), antialias=True)(pred_masks)\n",
    "            \n",
    "            masks = masks.type(torch.bfloat16)\n",
    "        \n",
    "            try: mask_loss = loss_fn(pred_masks.view(batch_size, -1), masks.view(batch_size, -1))\n",
    "            except ValueError: pass\n",
    "        \n",
    "            if (outputs['iou_scores'] > 1).any():\n",
    "                iou_loss = outputs['iou_scores'] - 1\n",
    "            else:\n",
    "                iou_loss = 1 - outputs['iou_scores']\n",
    "    \n",
    "            loss = torch.sum(iou_loss + mask_loss)\n",
    "            val_loss += loss.item()\n",
    "    \n",
    "            avg_val_loss = val_loss / (i + 1)\n",
    "            val_losses.append(loss.item())\n",
    "    \n",
    "            total += outputs['iou_scores'].reshape(-1).size(0)\n",
    "            total_ious_val += torch.sum(outputs['iou_scores']).item()\n",
    "            avg_iou = total_ious_val / (total + 1e-7)\n",
    "            \n",
    "            data.append([epoch + 1, avg_train_loss, avg_val_loss, avg_iou_train, avg_iou])\n",
    "            df = pd.DataFrame(data, columns = columns).reset_index(drop = True)\n",
    "                \n",
    "            clear_output(wait = True)\n",
    "            display(df.tail(1))\n",
    "                \n",
    "    dataframe.append([epoch + 1, avg_train_loss, avg_val_loss, avg_iou_train, avg_iou])\n",
    "    dataf = pd.DataFrame(dataframe, columns = columns).reset_index(drop = True)\n",
    "    clear_output(wait = True)\n",
    "    display(dataf)"
   ]
  },
  {
   "cell_type": "code",
   "execution_count": 10,
   "id": "b9615776",
   "metadata": {
    "execution": {
     "iopub.execute_input": "2024-03-10T08:02:37.420078Z",
     "iopub.status.busy": "2024-03-10T08:02:37.419737Z",
     "iopub.status.idle": "2024-03-10T08:03:29.109883Z",
     "shell.execute_reply": "2024-03-10T08:03:29.108851Z"
    },
    "papermill": {
     "duration": 51.701896,
     "end_time": "2024-03-10T08:03:29.112062",
     "exception": false,
     "start_time": "2024-03-10T08:02:37.410166",
     "status": "completed"
    },
    "tags": []
   },
   "outputs": [
    {
     "name": "stdout",
     "output_type": "stream",
     "text": [
      "Test Loss: 43011413114.880, Test IOU: 0.91\n"
     ]
    }
   ],
   "source": [
    "with torch.no_grad():\n",
    "    \n",
    "    test_loss, total_test, avg_iou_test, total_ious_test = 0,0,0,0\n",
    "        \n",
    "    for i, (images, labels, masks) in enumerate(test_dataset):\n",
    "        \n",
    "        images = images.type(torch.bfloat16)\n",
    "        outputs = model(images.float())\n",
    "        \n",
    "        masks = v2.Resize(size = (256, 256), antialias=True)(masks)\n",
    "        pred_masks = v2.Resize(size = (256, 256), antialias=True)(pred_masks)\n",
    "            \n",
    "        masks = masks.type(torch.bfloat16)\n",
    "        \n",
    "        try: mask_loss = loss_fn(pred_masks.view(batch_size, -1), masks.view(batch_size, -1))\n",
    "        except ValueError: pass\n",
    "        \n",
    "        if (outputs['iou_scores'] > 1).any():\n",
    "            iou_loss = outputs['iou_scores'] - 1\n",
    "        else:\n",
    "            iou_loss = 1 - outputs['iou_scores']\n",
    "    \n",
    "        loss = torch.sum(iou_loss + mask_loss)\n",
    "        test_loss += loss.item()\n",
    "    \n",
    "        avg_test_loss = test_loss / (i + 1)\n",
    "    \n",
    "        total_test += outputs['iou_scores'].reshape(-1).size(0)\n",
    "        total_ious_test += torch.sum(outputs['iou_scores']).item()\n",
    "        avg_iou_test = total_ious_test / (total + 1e-7)\n",
    "        \n",
    "        clear_output(wait = True)\n",
    "        print(f'Test Loss: {avg_test_loss:.3f}, Test IOU: {avg_iou_test:.2f}')"
   ]
  },
  {
   "cell_type": "code",
   "execution_count": 11,
   "id": "6d1beb4c",
   "metadata": {
    "execution": {
     "iopub.execute_input": "2024-03-10T08:03:29.130916Z",
     "iopub.status.busy": "2024-03-10T08:03:29.130272Z",
     "iopub.status.idle": "2024-03-10T08:03:43.916228Z",
     "shell.execute_reply": "2024-03-10T08:03:43.915192Z"
    },
    "papermill": {
     "duration": 14.797612,
     "end_time": "2024-03-10T08:03:43.918515",
     "exception": false,
     "start_time": "2024-03-10T08:03:29.120903",
     "status": "completed"
    },
    "tags": []
   },
   "outputs": [
    {
     "data": {
      "image/png": "[encoded data removed]",
      "text/plain": [
       "<Figure size 640x480 with 1 Axes>"
      ]
     },
     "metadata": {},
     "output_type": "display_data"
    }
   ],
   "source": [
    "from torchvision.transforms import ToTensor\n",
    "from PIL import Image\n",
    "import requests\n",
    "\n",
    "# The cancer is in the circle\n",
    "img_url = 'https://s3.amazonaws.com/static.wd7.us/9/90/Mamma_ca_1.jpg'\n",
    "\n",
    "raw_image = Image.open(requests.get(img_url, stream = True).raw).convert('RGB')\n",
    "\n",
    "model = model.to('cpu')\n",
    "\n",
    "image = v2.Resize(size = (1024, 1024), antialias=True)(raw_image)\n",
    "image = ToTensor()(image).unsqueeze(0)\n",
    "image = v2.Normalize(mean, std)(image)\n",
    "image = np.array(image).astype(np.uint8)\n",
    "\n",
    "inputs = processor(image, return_tensors=\"pt\")\n",
    "outputs = model(**inputs)\n",
    "masks = outputs['pred_masks']\n",
    "\n",
    "plt.imshow(image.squeeze(0).transpose(1, 2, 0))\n",
    "plt.axis('off')\n",
    "plt.show()"
   ]
  },
  {
   "cell_type": "code",
   "execution_count": 12,
   "id": "8015856b",
   "metadata": {
    "execution": {
     "iopub.execute_input": "2024-03-10T08:03:43.939212Z",
     "iopub.status.busy": "2024-03-10T08:03:43.938874Z",
     "iopub.status.idle": "2024-03-10T08:03:44.219907Z",
     "shell.execute_reply": "2024-03-10T08:03:44.218928Z"
    },
    "papermill": {
     "duration": 0.294062,
     "end_time": "2024-03-10T08:03:44.222311",
     "exception": false,
     "start_time": "2024-03-10T08:03:43.928249",
     "status": "completed"
    },
    "tags": []
   },
   "outputs": [
    {
     "data": {
      "image/png": "[encoded data removed]",
      "text/plain": [
       "<Figure size 640x480 with 1 Axes>"
      ]
     },
     "metadata": {},
     "output_type": "display_data"
    }
   ],
   "source": [
    "plt.style.use(\"ggplot\")\n",
    "plt.plot(train_losses)\n",
    "plt.plot(val_losses)\n",
    "\n",
    "plt.title('Model Loss Vs Model Steps')\n",
    "plt.xlabel('Steps')\n",
    "plt.ylabel('Loss')\n",
    "\n",
    "plt.legend(['Train', 'Validation'])\n",
    "plt.show()"
   ]
  },
  {
   "cell_type": "code",
   "execution_count": 13,
   "id": "37e3de15",
   "metadata": {
    "execution": {
     "iopub.execute_input": "2024-03-10T08:03:44.243278Z",
     "iopub.status.busy": "2024-03-10T08:03:44.242981Z",
     "iopub.status.idle": "2024-03-10T08:03:45.142632Z",
     "shell.execute_reply": "2024-03-10T08:03:45.141339Z"
    },
    "papermill": {
     "duration": 0.913082,
     "end_time": "2024-03-10T08:03:45.145243",
     "exception": false,
     "start_time": "2024-03-10T08:03:44.232161",
     "status": "completed"
    },
    "tags": []
   },
   "outputs": [],
   "source": [
    "torch.save(model, '/kaggle/working/model.pt')\n",
    "torch.save(model.state_dict(), '/kaggle/working/inference.pt')"
   ]
  },
  {
   "cell_type": "code",
   "execution_count": null,
   "id": "cbb438fd",
   "metadata": {
    "papermill": {
     "duration": 0.009509,
     "end_time": "2024-03-10T08:03:45.164839",
     "exception": false,
     "start_time": "2024-03-10T08:03:45.155330",
     "status": "completed"
    },
    "tags": []
   },
   "outputs": [],
   "source": []
  }
 ],
 "metadata": {
  "kaggle": {
   "accelerator": "nvidiaTeslaT4",
   "dataSources": [
    {
     "datasetId": 1209633,
     "sourceId": 2021025,
     "sourceType": "datasetVersion"
    }
   ],
   "dockerImageVersionId": 30664,
   "isGpuEnabled": true,
   "isInternetEnabled": true,
   "language": "python",
   "sourceType": "notebook"
  },
  "kernelspec": {
   "display_name": "Python 3",
   "language": "python",
   "name": "python3"
  },
  "language_info": {
   "codemirror_mode": {
    "name": "ipython",
    "version": 3
   },
   "file_extension": ".py",
   "mimetype": "text/x-python",
   "name": "python",
   "nbconvert_exporter": "python",
   "pygments_lexer": "ipython3",
   "version": "3.10.13"
  },
  "papermill": {
   "default_parameters": {},
   "duration": 825.589595,
   "end_time": "2024-03-10T08:03:48.032733",
   "environment_variables": {},
   "exception": null,
   "input_path": "__notebook__.ipynb",
   "output_path": "__notebook__.ipynb",
   "parameters": {},
   "start_time": "2024-03-10T07:50:02.443138",
   "version": "2.5.0"
  },
  "widgets": {
   "application/vnd.jupyter.widget-state+json": {
    "state": {
     "080f8d504aa44ff38b73975810317a1d": {
      "model_module": "@jupyter-widgets/base",
      "model_module_version": "1.2.0",
      "model_name": "LayoutModel",
      "state": {
       "_model_module": "@jupyter-widgets/base",
       "_model_module_version": "1.2.0",
       "_model_name": "LayoutModel",
       "_view_count": null,
       "_view_module": "@jupyter-widgets/base",
       "_view_module_version": "1.2.0",
       "_view_name": "LayoutView",
       "align_content": null,
       "align_items": null,
       "align_self": null,
       "border": null,
       "bottom": null,
       "display": null,
       "flex": null,
       "flex_flow": null,
       "grid_area": null,
       "grid_auto_columns": null,
       "grid_auto_flow": null,
       "grid_auto_rows": null,
       "grid_column": null,
       "grid_gap": null,
       "grid_row": null,
       "grid_template_areas": null,
       "grid_template_columns": null,
       "grid_template_rows": null,
       "height": null,
       "justify_content": null,
       "justify_items": null,
       "left": null,
       "margin": null,
       "max_height": null,
       "max_width": null,
       "min_height": null,
       "min_width": null,
       "object_fit": null,
       "object_position": null,
       "order": null,
       "overflow": null,
       "overflow_x": null,
       "overflow_y": null,
       "padding": null,
       "right": null,
       "top": null,
       "visibility": null,
       "width": null
      }
     },
     "15f2827fc5584b6ca48f3ffe45160f2c": {
      "model_module": "@jupyter-widgets/controls",
      "model_module_version": "1.5.0",
      "model_name": "HTMLModel",
      "state": {
       "_dom_classes": [],
       "_model_module": "@jupyter-widgets/controls",
       "_model_module_version": "1.5.0",
       "_model_name": "HTMLModel",
       "_view_count": null,
       "_view_module": "@jupyter-widgets/controls",
       "_view_module_version": "1.5.0",
       "_view_name": "HTMLView",
       "description": "",
       "description_tooltip": null,
       "layout": "IPY_MODEL_080f8d504aa44ff38b73975810317a1d",
       "placeholder": "​",
       "style": "IPY_MODEL_4220f58bed164b76ad00f94c3cb4e836",
       "value": " 473/473 [00:00&lt;00:00, 38.7kB/s]"
      }
     },
     "29cd6c30642d42cc9887ce225016cb67": {
      "model_module": "@jupyter-widgets/controls",
      "model_module_version": "1.5.0",
      "model_name": "HTMLModel",
      "state": {
       "_dom_classes": [],
       "_model_module": "@jupyter-widgets/controls",
       "_model_module_version": "1.5.0",
       "_model_name": "HTMLModel",
       "_view_count": null,
       "_view_module": "@jupyter-widgets/controls",
       "_view_module_version": "1.5.0",
       "_view_name": "HTMLView",
       "description": "",
       "description_tooltip": null,
       "layout": "IPY_MODEL_afceedd4f1c1493b9720421c8334d9b2",
       "placeholder": "​",
       "style": "IPY_MODEL_c6d1d2aa3fc849678222859baad3c27b",
       "value": " 375M/375M [00:02&lt;00:00, 216MB/s]"
      }
     },
     "3cce8f2190394869b69661cf2cf447bb": {
      "model_module": "@jupyter-widgets/base",
      "model_module_version": "1.2.0",
      "model_name": "LayoutModel",
      "state": {
       "_model_module": "@jupyter-widgets/base",
       "_model_module_version": "1.2.0",
       "_model_name": "LayoutModel",
       "_view_count": null,
       "_view_module": "@jupyter-widgets/base",
       "_view_module_version": "1.2.0",
       "_view_name": "LayoutView",
       "align_content": null,
       "align_items": null,
       "align_self": null,
       "border": null,
       "bottom": null,
       "display": null,
       "flex": null,
       "flex_flow": null,
       "grid_area": null,
       "grid_auto_columns": null,
       "grid_auto_flow": null,
       "grid_auto_rows": null,
       "grid_column": null,
       "grid_gap": null,
       "grid_row": null,
       "grid_template_areas": null,
       "grid_template_columns": null,
       "grid_template_rows": null,
       "height": null,
       "justify_content": null,
       "justify_items": null,
       "left": null,
       "margin": null,
       "max_height": null,
       "max_width": null,
       "min_height": null,
       "min_width": null,
       "object_fit": null,
       "object_position": null,
       "order": null,
       "overflow": null,
       "overflow_x": null,
       "overflow_y": null,
       "padding": null,
       "right": null,
       "top": null,
       "visibility": null,
       "width": null
      }
     },
     "40a6f9befbc141f1b7ba6f7e1f41ef79": {
      "model_module": "@jupyter-widgets/base",
      "model_module_version": "1.2.0",
      "model_name": "LayoutModel",
      "state": {
       "_model_module": "@jupyter-widgets/base",
       "_model_module_version": "1.2.0",
       "_model_name": "LayoutModel",
       "_view_count": null,
       "_view_module": "@jupyter-widgets/base",
       "_view_module_version": "1.2.0",
       "_view_name": "LayoutView",
       "align_content": null,
       "align_items": null,
       "align_self": null,
       "border": null,
       "bottom": null,
       "display": null,
       "flex": null,
       "flex_flow": null,
       "grid_area": null,
       "grid_auto_columns": null,
       "grid_auto_flow": null,
       "grid_auto_rows": null,
       "grid_column": null,
       "grid_gap": null,
       "grid_row": null,
       "grid_template_areas": null,
       "grid_template_columns": null,
       "grid_template_rows": null,
       "height": null,
       "justify_content": null,
       "justify_items": null,
       "left": null,
       "margin": null,
       "max_height": null,
       "max_width": null,
       "min_height": null,
       "min_width": null,
       "object_fit": null,
       "object_position": null,
       "order": null,
       "overflow": null,
       "overflow_x": null,
       "overflow_y": null,
       "padding": null,
       "right": null,
       "top": null,
       "visibility": null,
       "width": null
      }
     },
     "4220f58bed164b76ad00f94c3cb4e836": {
      "model_module": "@jupyter-widgets/controls",
      "model_module_version": "1.5.0",
      "model_name": "DescriptionStyleModel",
      "state": {
       "_model_module": "@jupyter-widgets/controls",
       "_model_module_version": "1.5.0",
       "_model_name": "DescriptionStyleModel",
       "_view_count": null,
       "_view_module": "@jupyter-widgets/base",
       "_view_module_version": "1.2.0",
       "_view_name": "StyleView",
       "description_width": ""
      }
     },
     "4e5cf00f394348ad9d7d3c0abf771c36": {
      "model_module": "@jupyter-widgets/controls",
      "model_module_version": "1.5.0",
      "model_name": "ProgressStyleModel",
      "state": {
       "_model_module": "@jupyter-widgets/controls",
       "_model_module_version": "1.5.0",
       "_model_name": "ProgressStyleModel",
       "_view_count": null,
       "_view_module": "@jupyter-widgets/base",
       "_view_module_version": "1.2.0",
       "_view_name": "StyleView",
       "bar_color": null,
       "description_width": ""
      }
     },
     "548b635e52d74b37a43fdbb1bb835f7e": {
      "model_module": "@jupyter-widgets/controls",
      "model_module_version": "1.5.0",
      "model_name": "FloatProgressModel",
      "state": {
       "_dom_classes": [],
       "_model_module": "@jupyter-widgets/controls",
       "_model_module_version": "1.5.0",
       "_model_name": "FloatProgressModel",
       "_view_count": null,
       "_view_module": "@jupyter-widgets/controls",
       "_view_module_version": "1.5.0",
       "_view_name": "ProgressView",
       "bar_style": "success",
       "description": "",
       "description_tooltip": null,
       "layout": "IPY_MODEL_eb6caab5a1df4d4d9e4db8a13ee9081e",
       "max": 473.0,
       "min": 0.0,
       "orientation": "horizontal",
       "style": "IPY_MODEL_abc40773c6254cf9a6a575e4bd6bb00f",
       "value": 473.0
      }
     },
     "6d3eae5698e543859fecc0f0d4c97c11": {
      "model_module": "@jupyter-widgets/controls",
      "model_module_version": "1.5.0",
      "model_name": "FloatProgressModel",
      "state": {
       "_dom_classes": [],
       "_model_module": "@jupyter-widgets/controls",
       "_model_module_version": "1.5.0",
       "_model_name": "FloatProgressModel",
       "_view_count": null,
       "_view_module": "@jupyter-widgets/controls",
       "_view_module_version": "1.5.0",
       "_view_name": "ProgressView",
       "bar_style": "success",
       "description": "",
       "description_tooltip": null,
       "layout": "IPY_MODEL_f32bbc9bcd3c4abda221ecf2e0367163",
       "max": 466.0,
       "min": 0.0,
       "orientation": "horizontal",
       "style": "IPY_MODEL_4e5cf00f394348ad9d7d3c0abf771c36",
       "value": 466.0
      }
     },
     "71e3ba4467b14b848aee63469d50be8b": {
      "model_module": "@jupyter-widgets/controls",
      "model_module_version": "1.5.0",
      "model_name": "HBoxModel",
      "state": {
       "_dom_classes": [],
       "_model_module": "@jupyter-widgets/controls",
       "_model_module_version": "1.5.0",
       "_model_name": "HBoxModel",
       "_view_count": null,
       "_view_module": "@jupyter-widgets/controls",
       "_view_module_version": "1.5.0",
       "_view_name": "HBoxView",
       "box_style": "",
       "children": [
        "IPY_MODEL_76d173f2a5854ae1a09d2e9b8fade874",
        "IPY_MODEL_ce23334645b74a558e33ebd793454988",
        "IPY_MODEL_29cd6c30642d42cc9887ce225016cb67"
       ],
       "layout": "IPY_MODEL_bf8942cdd2204015bb5dab1dda1b715c"
      }
     },
     "76d173f2a5854ae1a09d2e9b8fade874": {
      "model_module": "@jupyter-widgets/controls",
      "model_module_version": "1.5.0",
      "model_name": "HTMLModel",
      "state": {
       "_dom_classes": [],
       "_model_module": "@jupyter-widgets/controls",
       "_model_module_version": "1.5.0",
       "_model_name": "HTMLModel",
       "_view_count": null,
       "_view_module": "@jupyter-widgets/controls",
       "_view_module_version": "1.5.0",
       "_view_name": "HTMLView",
       "description": "",
       "description_tooltip": null,
       "layout": "IPY_MODEL_9c920a66cd524df185b9fed718be6ea6",
       "placeholder": "​",
       "style": "IPY_MODEL_a60041a39f254ae48f1200846261aa9e",
       "value": "pytorch_model.bin: 100%"
      }
     },
     "7e06a42978eb4e82b7b5331f22161027": {
      "model_module": "@jupyter-widgets/controls",
      "model_module_version": "1.5.0",
      "model_name": "DescriptionStyleModel",
      "state": {
       "_model_module": "@jupyter-widgets/controls",
       "_model_module_version": "1.5.0",
       "_model_name": "DescriptionStyleModel",
       "_view_count": null,
       "_view_module": "@jupyter-widgets/base",
       "_view_module_version": "1.2.0",
       "_view_name": "StyleView",
       "description_width": ""
      }
     },
     "9a092e887c524396ad2292a77644ac50": {
      "model_module": "@jupyter-widgets/controls",
      "model_module_version": "1.5.0",
      "model_name": "ProgressStyleModel",
      "state": {
       "_model_module": "@jupyter-widgets/controls",
       "_model_module_version": "1.5.0",
       "_model_name": "ProgressStyleModel",
       "_view_count": null,
       "_view_module": "@jupyter-widgets/base",
       "_view_module_version": "1.2.0",
       "_view_name": "StyleView",
       "bar_color": null,
       "description_width": ""
      }
     },
     "9c920a66cd524df185b9fed718be6ea6": {
      "model_module": "@jupyter-widgets/base",
      "model_module_version": "1.2.0",
      "model_name": "LayoutModel",
      "state": {
       "_model_module": "@jupyter-widgets/base",
       "_model_module_version": "1.2.0",
       "_model_name": "LayoutModel",
       "_view_count": null,
       "_view_module": "@jupyter-widgets/base",
       "_view_module_version": "1.2.0",
       "_view_name": "LayoutView",
       "align_content": null,
       "align_items": null,
       "align_self": null,
       "border": null,
       "bottom": null,
       "display": null,
       "flex": null,
       "flex_flow": null,
       "grid_area": null,
       "grid_auto_columns": null,
       "grid_auto_flow": null,
       "grid_auto_rows": null,
       "grid_column": null,
       "grid_gap": null,
       "grid_row": null,
       "grid_template_areas": null,
       "grid_template_columns": null,
       "grid_template_rows": null,
       "height": null,
       "justify_content": null,
       "justify_items": null,
       "left": null,
       "margin": null,
       "max_height": null,
       "max_width": null,
       "min_height": null,
       "min_width": null,
       "object_fit": null,
       "object_position": null,
       "order": null,
       "overflow": null,
       "overflow_x": null,
       "overflow_y": null,
       "padding": null,
       "right": null,
       "top": null,
       "visibility": null,
       "width": null
      }
     },
     "9cd1238df52a493c90e248803767d0cd": {
      "model_module": "@jupyter-widgets/base",
      "model_module_version": "1.2.0",
      "model_name": "LayoutModel",
      "state": {
       "_model_module": "@jupyter-widgets/base",
       "_model_module_version": "1.2.0",
       "_model_name": "LayoutModel",
       "_view_count": null,
       "_view_module": "@jupyter-widgets/base",
       "_view_module_version": "1.2.0",
       "_view_name": "LayoutView",
       "align_content": null,
       "align_items": null,
       "align_self": null,
       "border": null,
       "bottom": null,
       "display": null,
       "flex": null,
       "flex_flow": null,
       "grid_area": null,
       "grid_auto_columns": null,
       "grid_auto_flow": null,
       "grid_auto_rows": null,
       "grid_column": null,
       "grid_gap": null,
       "grid_row": null,
       "grid_template_areas": null,
       "grid_template_columns": null,
       "grid_template_rows": null,
       "height": null,
       "justify_content": null,
       "justify_items": null,
       "left": null,
       "margin": null,
       "max_height": null,
       "max_width": null,
       "min_height": null,
       "min_width": null,
       "object_fit": null,
       "object_position": null,
       "order": null,
       "overflow": null,
       "overflow_x": null,
       "overflow_y": null,
       "padding": null,
       "right": null,
       "top": null,
       "visibility": null,
       "width": null
      }
     },
     "a60041a39f254ae48f1200846261aa9e": {
      "model_module": "@jupyter-widgets/controls",
      "model_module_version": "1.5.0",
      "model_name": "DescriptionStyleModel",
      "state": {
       "_model_module": "@jupyter-widgets/controls",
       "_model_module_version": "1.5.0",
       "_model_name": "DescriptionStyleModel",
       "_view_count": null,
       "_view_module": "@jupyter-widgets/base",
       "_view_module_version": "1.2.0",
       "_view_name": "StyleView",
       "description_width": ""
      }
     },
     "abc40773c6254cf9a6a575e4bd6bb00f": {
      "model_module": "@jupyter-widgets/controls",
      "model_module_version": "1.5.0",
      "model_name": "ProgressStyleModel",
      "state": {
       "_model_module": "@jupyter-widgets/controls",
       "_model_module_version": "1.5.0",
       "_model_name": "ProgressStyleModel",
       "_view_count": null,
       "_view_module": "@jupyter-widgets/base",
       "_view_module_version": "1.2.0",
       "_view_name": "StyleView",
       "bar_color": null,
       "description_width": ""
      }
     },
     "afceedd4f1c1493b9720421c8334d9b2": {
      "model_module": "@jupyter-widgets/base",
      "model_module_version": "1.2.0",
      "model_name": "LayoutModel",
      "state": {
       "_model_module": "@jupyter-widgets/base",
       "_model_module_version": "1.2.0",
       "_model_name": "LayoutModel",
       "_view_count": null,
       "_view_module": "@jupyter-widgets/base",
       "_view_module_version": "1.2.0",
       "_view_name": "LayoutView",
       "align_content": null,
       "align_items": null,
       "align_self": null,
       "border": null,
       "bottom": null,
       "display": null,
       "flex": null,
       "flex_flow": null,
       "grid_area": null,
       "grid_auto_columns": null,
       "grid_auto_flow": null,
       "grid_auto_rows": null,
       "grid_column": null,
       "grid_gap": null,
       "grid_row": null,
       "grid_template_areas": null,
       "grid_template_columns": null,
       "grid_template_rows": null,
       "height": null,
       "justify_content": null,
       "justify_items": null,
       "left": null,
       "margin": null,
       "max_height": null,
       "max_width": null,
       "min_height": null,
       "min_width": null,
       "object_fit": null,
       "object_position": null,
       "order": null,
       "overflow": null,
       "overflow_x": null,
       "overflow_y": null,
       "padding": null,
       "right": null,
       "top": null,
       "visibility": null,
       "width": null
      }
     },
     "b8122e6b4bae409f9cc23d58b0e56085": {
      "model_module": "@jupyter-widgets/base",
      "model_module_version": "1.2.0",
      "model_name": "LayoutModel",
      "state": {
       "_model_module": "@jupyter-widgets/base",
       "_model_module_version": "1.2.0",
       "_model_name": "LayoutModel",
       "_view_count": null,
       "_view_module": "@jupyter-widgets/base",
       "_view_module_version": "1.2.0",
       "_view_name": "LayoutView",
       "align_content": null,
       "align_items": null,
       "align_self": null,
       "border": null,
       "bottom": null,
       "display": null,
       "flex": null,
       "flex_flow": null,
       "grid_area": null,
       "grid_auto_columns": null,
       "grid_auto_flow": null,
       "grid_auto_rows": null,
       "grid_column": null,
       "grid_gap": null,
       "grid_row": null,
       "grid_template_areas": null,
       "grid_template_columns": null,
       "grid_template_rows": null,
       "height": null,
       "justify_content": null,
       "justify_items": null,
       "left": null,
       "margin": null,
       "max_height": null,
       "max_width": null,
       "min_height": null,
       "min_width": null,
       "object_fit": null,
       "object_position": null,
       "order": null,
       "overflow": null,
       "overflow_x": null,
       "overflow_y": null,
       "padding": null,
       "right": null,
       "top": null,
       "visibility": null,
       "width": null
      }
     },
     "bf8942cdd2204015bb5dab1dda1b715c": {
      "model_module": "@jupyter-widgets/base",
      "model_module_version": "1.2.0",
      "model_name": "LayoutModel",
      "state": {
       "_model_module": "@jupyter-widgets/base",
       "_model_module_version": "1.2.0",
       "_model_name": "LayoutModel",
       "_view_count": null,
       "_view_module": "@jupyter-widgets/base",
       "_view_module_version": "1.2.0",
       "_view_name": "LayoutView",
       "align_content": null,
       "align_items": null,
       "align_self": null,
       "border": null,
       "bottom": null,
       "display": null,
       "flex": null,
       "flex_flow": null,
       "grid_area": null,
       "grid_auto_columns": null,
       "grid_auto_flow": null,
       "grid_auto_rows": null,
       "grid_column": null,
       "grid_gap": null,
       "grid_row": null,
       "grid_template_areas": null,
       "grid_template_columns": null,
       "grid_template_rows": null,
       "height": null,
       "justify_content": null,
       "justify_items": null,
       "left": null,
       "margin": null,
       "max_height": null,
       "max_width": null,
       "min_height": null,
       "min_width": null,
       "object_fit": null,
       "object_position": null,
       "order": null,
       "overflow": null,
       "overflow_x": null,
       "overflow_y": null,
       "padding": null,
       "right": null,
       "top": null,
       "visibility": null,
       "width": null
      }
     },
     "c5043592b32e4da6bfe5ee8a1de9cb06": {
      "model_module": "@jupyter-widgets/controls",
      "model_module_version": "1.5.0",
      "model_name": "HTMLModel",
      "state": {
       "_dom_classes": [],
       "_model_module": "@jupyter-widgets/controls",
       "_model_module_version": "1.5.0",
       "_model_name": "HTMLModel",
       "_view_count": null,
       "_view_module": "@jupyter-widgets/controls",
       "_view_module_version": "1.5.0",
       "_view_name": "HTMLView",
       "description": "",
       "description_tooltip": null,
       "layout": "IPY_MODEL_3cce8f2190394869b69661cf2cf447bb",
       "placeholder": "​",
       "style": "IPY_MODEL_7e06a42978eb4e82b7b5331f22161027",
       "value": "config.json: 100%"
      }
     },
     "c55292e2804a45edbaead6316875e7fd": {
      "model_module": "@jupyter-widgets/base",
      "model_module_version": "1.2.0",
      "model_name": "LayoutModel",
      "state": {
       "_model_module": "@jupyter-widgets/base",
       "_model_module_version": "1.2.0",
       "_model_name": "LayoutModel",
       "_view_count": null,
       "_view_module": "@jupyter-widgets/base",
       "_view_module_version": "1.2.0",
       "_view_name": "LayoutView",
       "align_content": null,
       "align_items": null,
       "align_self": null,
       "border": null,
       "bottom": null,
       "display": null,
       "flex": null,
       "flex_flow": null,
       "grid_area": null,
       "grid_auto_columns": null,
       "grid_auto_flow": null,
       "grid_auto_rows": null,
       "grid_column": null,
       "grid_gap": null,
       "grid_row": null,
       "grid_template_areas": null,
       "grid_template_columns": null,
       "grid_template_rows": null,
       "height": null,
       "justify_content": null,
       "justify_items": null,
       "left": null,
       "margin": null,
       "max_height": null,
       "max_width": null,
       "min_height": null,
       "min_width": null,
       "object_fit": null,
       "object_position": null,
       "order": null,
       "overflow": null,
       "overflow_x": null,
       "overflow_y": null,
       "padding": null,
       "right": null,
       "top": null,
       "visibility": null,
       "width": null
      }
     },
     "c6d1d2aa3fc849678222859baad3c27b": {
      "model_module": "@jupyter-widgets/controls",
      "model_module_version": "1.5.0",
      "model_name": "DescriptionStyleModel",
      "state": {
       "_model_module": "@jupyter-widgets/controls",
       "_model_module_version": "1.5.0",
       "_model_name": "DescriptionStyleModel",
       "_view_count": null,
       "_view_module": "@jupyter-widgets/base",
       "_view_module_version": "1.2.0",
       "_view_name": "StyleView",
       "description_width": ""
      }
     },
     "ce23334645b74a558e33ebd793454988": {
      "model_module": "@jupyter-widgets/controls",
      "model_module_version": "1.5.0",
      "model_name": "FloatProgressModel",
      "state": {
       "_dom_classes": [],
       "_model_module": "@jupyter-widgets/controls",
       "_model_module_version": "1.5.0",
       "_model_name": "FloatProgressModel",
       "_view_count": null,
       "_view_module": "@jupyter-widgets/controls",
       "_view_module_version": "1.5.0",
       "_view_name": "ProgressView",
       "bar_style": "success",
       "description": "",
       "description_tooltip": null,
       "layout": "IPY_MODEL_40a6f9befbc141f1b7ba6f7e1f41ef79",
       "max": 375050165.0,
       "min": 0.0,
       "orientation": "horizontal",
       "style": "IPY_MODEL_9a092e887c524396ad2292a77644ac50",
       "value": 375050165.0
      }
     },
     "ce4b741413ed4e099e33ba52e5910d91": {
      "model_module": "@jupyter-widgets/controls",
      "model_module_version": "1.5.0",
      "model_name": "HTMLModel",
      "state": {
       "_dom_classes": [],
       "_model_module": "@jupyter-widgets/controls",
       "_model_module_version": "1.5.0",
       "_model_name": "HTMLModel",
       "_view_count": null,
       "_view_module": "@jupyter-widgets/controls",
       "_view_module_version": "1.5.0",
       "_view_name": "HTMLView",
       "description": "",
       "description_tooltip": null,
       "layout": "IPY_MODEL_c55292e2804a45edbaead6316875e7fd",
       "placeholder": "​",
       "style": "IPY_MODEL_da1079d9bec247b49749f13dbed164a0",
       "value": " 466/466 [00:00&lt;00:00, 39.3kB/s]"
      }
     },
     "da1079d9bec247b49749f13dbed164a0": {
      "model_module": "@jupyter-widgets/controls",
      "model_module_version": "1.5.0",
      "model_name": "DescriptionStyleModel",
      "state": {
       "_model_module": "@jupyter-widgets/controls",
       "_model_module_version": "1.5.0",
       "_model_name": "DescriptionStyleModel",
       "_view_count": null,
       "_view_module": "@jupyter-widgets/base",
       "_view_module_version": "1.2.0",
       "_view_name": "StyleView",
       "description_width": ""
      }
     },
     "da5a8ebdc43145d394b42ed9ed1e6435": {
      "model_module": "@jupyter-widgets/controls",
      "model_module_version": "1.5.0",
      "model_name": "HBoxModel",
      "state": {
       "_dom_classes": [],
       "_model_module": "@jupyter-widgets/controls",
       "_model_module_version": "1.5.0",
       "_model_name": "HBoxModel",
       "_view_count": null,
       "_view_module": "@jupyter-widgets/controls",
       "_view_module_version": "1.5.0",
       "_view_name": "HBoxView",
       "box_style": "",
       "children": [
        "IPY_MODEL_fdfa5da6be3741b8879271696c8118ac",
        "IPY_MODEL_6d3eae5698e543859fecc0f0d4c97c11",
        "IPY_MODEL_ce4b741413ed4e099e33ba52e5910d91"
       ],
       "layout": "IPY_MODEL_9cd1238df52a493c90e248803767d0cd"
      }
     },
     "dba444e9bb0441b996b5020ea72121e0": {
      "model_module": "@jupyter-widgets/base",
      "model_module_version": "1.2.0",
      "model_name": "LayoutModel",
      "state": {
       "_model_module": "@jupyter-widgets/base",
       "_model_module_version": "1.2.0",
       "_model_name": "LayoutModel",
       "_view_count": null,
       "_view_module": "@jupyter-widgets/base",
       "_view_module_version": "1.2.0",
       "_view_name": "LayoutView",
       "align_content": null,
       "align_items": null,
       "align_self": null,
       "border": null,
       "bottom": null,
       "display": null,
       "flex": null,
       "flex_flow": null,
       "grid_area": null,
       "grid_auto_columns": null,
       "grid_auto_flow": null,
       "grid_auto_rows": null,
       "grid_column": null,
       "grid_gap": null,
       "grid_row": null,
       "grid_template_areas": null,
       "grid_template_columns": null,
       "grid_template_rows": null,
       "height": null,
       "justify_content": null,
       "justify_items": null,
       "left": null,
       "margin": null,
       "max_height": null,
       "max_width": null,
       "min_height": null,
       "min_width": null,
       "object_fit": null,
       "object_position": null,
       "order": null,
       "overflow": null,
       "overflow_x": null,
       "overflow_y": null,
       "padding": null,
       "right": null,
       "top": null,
       "visibility": null,
       "width": null
      }
     },
     "ea74fa17b1b041efa546a57014f9f286": {
      "model_module": "@jupyter-widgets/controls",
      "model_module_version": "1.5.0",
      "model_name": "DescriptionStyleModel",
      "state": {
       "_model_module": "@jupyter-widgets/controls",
       "_model_module_version": "1.5.0",
       "_model_name": "DescriptionStyleModel",
       "_view_count": null,
       "_view_module": "@jupyter-widgets/base",
       "_view_module_version": "1.2.0",
       "_view_name": "StyleView",
       "description_width": ""
      }
     },
     "eb6caab5a1df4d4d9e4db8a13ee9081e": {
      "model_module": "@jupyter-widgets/base",
      "model_module_version": "1.2.0",
      "model_name": "LayoutModel",
      "state": {
       "_model_module": "@jupyter-widgets/base",
       "_model_module_version": "1.2.0",
       "_model_name": "LayoutModel",
       "_view_count": null,
       "_view_module": "@jupyter-widgets/base",
       "_view_module_version": "1.2.0",
       "_view_name": "LayoutView",
       "align_content": null,
       "align_items": null,
       "align_self": null,
       "border": null,
       "bottom": null,
       "display": null,
       "flex": null,
       "flex_flow": null,
       "grid_area": null,
       "grid_auto_columns": null,
       "grid_auto_flow": null,
       "grid_auto_rows": null,
       "grid_column": null,
       "grid_gap": null,
       "grid_row": null,
       "grid_template_areas": null,
       "grid_template_columns": null,
       "grid_template_rows": null,
       "height": null,
       "justify_content": null,
       "justify_items": null,
       "left": null,
       "margin": null,
       "max_height": null,
       "max_width": null,
       "min_height": null,
       "min_width": null,
       "object_fit": null,
       "object_position": null,
       "order": null,
       "overflow": null,
       "overflow_x": null,
       "overflow_y": null,
       "padding": null,
       "right": null,
       "top": null,
       "visibility": null,
       "width": null
      }
     },
     "f32bbc9bcd3c4abda221ecf2e0367163": {
      "model_module": "@jupyter-widgets/base",
      "model_module_version": "1.2.0",
      "model_name": "LayoutModel",
      "state": {
       "_model_module": "@jupyter-widgets/base",
       "_model_module_version": "1.2.0",
       "_model_name": "LayoutModel",
       "_view_count": null,
       "_view_module": "@jupyter-widgets/base",
       "_view_module_version": "1.2.0",
       "_view_name": "LayoutView",
       "align_content": null,
       "align_items": null,
       "align_self": null,
       "border": null,
       "bottom": null,
       "display": null,
       "flex": null,
       "flex_flow": null,
       "grid_area": null,
       "grid_auto_columns": null,
       "grid_auto_flow": null,
       "grid_auto_rows": null,
       "grid_column": null,
       "grid_gap": null,
       "grid_row": null,
       "grid_template_areas": null,
       "grid_template_columns": null,
       "grid_template_rows": null,
       "height": null,
       "justify_content": null,
       "justify_items": null,
       "left": null,
       "margin": null,
       "max_height": null,
       "max_width": null,
       "min_height": null,
       "min_width": null,
       "object_fit": null,
       "object_position": null,
       "order": null,
       "overflow": null,
       "overflow_x": null,
       "overflow_y": null,
       "padding": null,
       "right": null,
       "top": null,
       "visibility": null,
       "width": null
      }
     },
     "f9f422c783ae4bfaa208c687583b8446": {
      "model_module": "@jupyter-widgets/controls",
      "model_module_version": "1.5.0",
      "model_name": "HBoxModel",
      "state": {
       "_dom_classes": [],
       "_model_module": "@jupyter-widgets/controls",
       "_model_module_version": "1.5.0",
       "_model_name": "HBoxModel",
       "_view_count": null,
       "_view_module": "@jupyter-widgets/controls",
       "_view_module_version": "1.5.0",
       "_view_name": "HBoxView",
       "box_style": "",
       "children": [
        "IPY_MODEL_c5043592b32e4da6bfe5ee8a1de9cb06",
        "IPY_MODEL_548b635e52d74b37a43fdbb1bb835f7e",
        "IPY_MODEL_15f2827fc5584b6ca48f3ffe45160f2c"
       ],
       "layout": "IPY_MODEL_b8122e6b4bae409f9cc23d58b0e56085"
      }
     },
     "fdfa5da6be3741b8879271696c8118ac": {
      "model_module": "@jupyter-widgets/controls",
      "model_module_version": "1.5.0",
      "model_name": "HTMLModel",
      "state": {
       "_dom_classes": [],
       "_model_module": "@jupyter-widgets/controls",
       "_model_module_version": "1.5.0",
       "_model_name": "HTMLModel",
       "_view_count": null,
       "_view_module": "@jupyter-widgets/controls",
       "_view_module_version": "1.5.0",
       "_view_name": "HTMLView",
       "description": "",
       "description_tooltip": null,
       "layout": "IPY_MODEL_dba444e9bb0441b996b5020ea72121e0",
       "placeholder": "​",
       "style": "IPY_MODEL_ea74fa17b1b041efa546a57014f9f286",
       "value": "preprocessor_config.json: 100%"
      }
     }
    },
    "version_major": 2,
    "version_minor": 0
   }
  }
 },
 "nbformat": 4,
 "nbformat_minor": 5
}
